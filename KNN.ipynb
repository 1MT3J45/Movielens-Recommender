{
 "cells": [
  {
   "cell_type": "code",
   "execution_count": 1,
   "metadata": {
    "collapsed": false
   },
   "outputs": [
    {
     "name": "stdout",
     "output_type": "stream",
     "text": [
      "C:\\Users\\nm173399\\Desktop\n"
     ]
    }
   ],
   "source": [
    "cd C:\\Users\\nm173399\\Desktop"
   ]
  },
  {
   "cell_type": "code",
   "execution_count": 3,
   "metadata": {
    "collapsed": true
   },
   "outputs": [],
   "source": [
    "import numpy as np\n",
    "import pandas as pd"
   ]
  },
  {
   "cell_type": "code",
   "execution_count": 69,
   "metadata": {
    "collapsed": false
   },
   "outputs": [],
   "source": [
    "ratings = np.array(pd.read_csv(\"Rating Zeros.csv\", index_col=0)) # row: users  col: movies\n",
    "labels = np.genfromtxt(\"labels.csv\", delimiter=\",\", dtype=int) # cluster assignments from k-means"
   ]
  },
  {
   "cell_type": "code",
   "execution_count": 59,
   "metadata": {
    "collapsed": false
   },
   "outputs": [
    {
     "data": {
      "text/plain": [
       "array([[5, 3, 4, ..., 0, 0, 0],\n",
       "       [4, 0, 0, ..., 0, 0, 0],\n",
       "       [0, 0, 0, ..., 0, 0, 0],\n",
       "       ..., \n",
       "       [5, 0, 0, ..., 0, 0, 0],\n",
       "       [0, 0, 0, ..., 0, 0, 0],\n",
       "       [0, 5, 0, ..., 0, 0, 0]], dtype=int64)"
      ]
     },
     "execution_count": 59,
     "metadata": {},
     "output_type": "execute_result"
    }
   ],
   "source": [
    "ratings"
   ]
  },
  {
   "cell_type": "code",
   "execution_count": 70,
   "metadata": {
    "collapsed": false
   },
   "outputs": [
    {
     "data": {
      "text/plain": [
       "array([4, 0, 3, 3, 1, 2, 2, 1, 3, 2, 1, 1, 2, 1, 0, 1, 3, 2, 3, 3, 0, 1, 1,\n",
       "       1, 1, 0, 3, 1, 3, 3, 3, 0, 3, 3, 3, 3, 1, 1, 3, 3, 1, 4, 4, 1, 0, 3,\n",
       "       3, 1, 1, 3, 3, 0, 0, 0, 3, 4, 0, 1, 2, 2, 3, 4, 0, 4, 1, 0, 0, 0, 0,\n",
       "       1, 3, 1, 1, 3, 0, 3, 1, 3, 3, 3, 0, 1, 1, 0, 2, 3, 4, 3, 0, 2, 1, 4,\n",
       "       3, 4, 4, 1, 1, 3, 0, 3, 0, 1, 3, 0, 3, 1, 3, 0, 4, 3, 3, 3, 3, 1, 1,\n",
       "       3, 0, 1, 0, 0, 0, 3, 3, 3, 1, 3, 3, 1, 3, 4, 3, 3, 3, 3, 3, 3, 0, 1,\n",
       "       3, 3, 0, 3, 3, 1, 4, 3, 3, 1, 3, 0, 2, 1, 3, 3, 3, 3, 0, 1, 0, 1, 3,\n",
       "       0, 3, 0, 3, 3, 3, 0, 3, 3, 3, 3, 3, 1, 3, 0, 1, 4, 3, 1, 0, 0, 3, 2,\n",
       "       3, 0, 1, 1, 2, 0, 3, 3, 0, 2, 3, 3, 1, 1, 3, 4, 2, 3, 0, 3, 3, 3, 1,\n",
       "       3, 3, 1, 3, 3, 1, 1, 1, 1, 3, 3, 3, 3, 1, 4, 0, 3, 3, 3, 0, 3, 3, 1,\n",
       "       3, 1, 1, 2, 1, 1, 1, 3, 2, 3, 3, 3, 3, 4, 3, 1, 3, 1, 4, 1, 0, 3, 1,\n",
       "       1, 3, 4, 3, 3, 3, 3, 3, 1, 1, 1, 0, 3, 4, 4, 2, 1, 2, 1, 3, 0, 1, 4,\n",
       "       0, 3, 4, 4, 3, 3, 1, 3, 3, 4, 0, 1, 3, 1, 4, 1, 2, 0, 4, 1, 1, 1, 2,\n",
       "       3, 4, 3, 4, 3, 2, 3, 1, 2, 3, 3, 4, 2, 2, 4, 1, 1, 3, 1, 3, 4, 1, 3,\n",
       "       0, 0, 1, 1, 2, 4, 3, 4, 3, 4, 3, 2, 3, 0, 3, 1, 2, 1, 3, 1, 2, 1, 4,\n",
       "       4, 4, 0, 0, 1, 3, 1, 3, 2, 3, 3, 0, 3, 0, 1, 1, 3, 4, 3, 0, 3, 3, 3,\n",
       "       3, 1, 1, 3, 4, 4, 3, 3, 3, 4, 2, 1, 1, 3, 1, 3, 2, 3, 4, 0, 2, 3, 1,\n",
       "       3, 4, 4, 0, 0, 1, 2, 4, 3, 1, 0, 0, 3, 4, 2, 4, 3, 2, 3, 1, 1, 0, 3,\n",
       "       3, 4, 4, 3, 3, 3, 1, 0, 3, 3, 1, 1, 3, 3, 2, 0, 3, 0, 3, 0, 4, 1, 2,\n",
       "       0, 3, 3, 3, 1, 3, 3, 0, 3, 1, 3, 3, 2, 3, 2, 1, 1, 1, 1, 4, 1, 0, 3,\n",
       "       3, 3, 0, 3, 1, 1, 0, 1, 3, 0, 3, 4, 3, 2, 3, 3, 3, 1, 4, 1, 1, 3, 3,\n",
       "       4, 3, 0, 4, 1, 3, 0, 3, 3, 1, 3, 4, 1, 4, 1, 1, 1, 0, 3, 1, 4, 1, 4,\n",
       "       0, 1, 3, 3, 3, 3, 0, 4, 3, 3, 3, 0, 3, 3, 1, 3, 1, 2, 0, 0, 1, 1, 3,\n",
       "       3, 3, 4, 4, 0, 2, 1, 2, 1, 3, 0, 1, 1, 1, 3, 4, 3, 3, 0, 0, 0, 4, 0,\n",
       "       1, 1, 0, 3, 3, 3, 1, 0, 2, 1, 3, 3, 3, 1, 2, 3, 0, 3, 3, 3, 3, 3, 3,\n",
       "       0, 4, 3, 1, 0, 3, 0, 3, 3, 3, 4, 3, 4, 3, 0, 1, 2, 1, 3, 0, 3, 0, 3,\n",
       "       0, 1, 1, 0, 3, 3, 1, 4, 3, 1, 3, 1, 3, 3, 3, 0, 1, 3, 3, 4, 0, 0, 4,\n",
       "       4, 3, 0, 1, 3, 1, 3, 1, 0, 3, 1, 3, 0, 3, 3, 0, 1, 1, 1, 3, 4, 4, 0,\n",
       "       1, 3, 3, 4, 0, 2, 3, 3, 4, 1, 2, 3, 3, 1, 2, 1, 1, 3, 0, 2, 1, 2, 3,\n",
       "       3, 1, 3, 1, 3, 3, 0, 3, 3, 0, 0, 1, 0, 3, 4, 3, 1, 3, 1, 3, 3, 0, 1,\n",
       "       3, 3, 1, 2, 3, 3, 0, 1, 0, 3, 3, 3, 0, 1, 1, 0, 2, 0, 1, 1, 4, 1, 3,\n",
       "       0, 4, 2, 0, 0, 3, 3, 1, 0, 3, 3, 3, 3, 4, 3, 3, 0, 1, 3, 0, 1, 0, 3,\n",
       "       3, 4, 3, 3, 1, 0, 3, 3, 3, 1, 2, 1, 4, 3, 1, 3, 1, 3, 3, 1, 4, 2, 0,\n",
       "       3, 0, 3, 1, 0, 3, 1, 3, 0, 3, 0, 3, 3, 1, 1, 3, 1, 3, 1, 0, 1, 3, 3,\n",
       "       3, 3, 3, 1, 3, 4, 0, 4, 3, 0, 0, 3, 1, 4, 3, 4, 3, 0, 3, 3, 3, 4, 4,\n",
       "       1, 4, 3, 3, 3, 3, 3, 3, 3, 4, 3, 0, 3, 3, 3, 1, 3, 4, 3, 0, 1, 3, 3,\n",
       "       3, 1, 0, 3, 1, 0, 1, 3, 0, 1, 0, 2, 3, 3, 1, 1, 3, 2, 1, 2, 3, 1, 0,\n",
       "       0, 3, 1, 3, 3, 3, 3, 3, 3, 3, 1, 3, 4, 3, 3, 1, 1, 0, 2, 1, 0, 3, 3,\n",
       "       1, 3, 3, 1, 0, 4, 4, 4, 2, 3, 1, 4, 4, 3, 2, 1, 0, 4, 0, 0, 3, 4, 4,\n",
       "       3, 1, 3, 1, 3, 1, 3, 3, 0, 0, 1, 3, 0, 1, 1, 1, 3, 3, 4, 0, 1, 0, 3,\n",
       "       1, 1, 0, 1, 3, 3, 1, 3, 1, 0, 0, 2, 1, 1, 0, 0, 3, 0, 0, 1, 3, 1, 4])"
      ]
     },
     "execution_count": 70,
     "metadata": {},
     "output_type": "execute_result"
    }
   ],
   "source": [
    "labels"
   ]
  },
  {
   "cell_type": "markdown",
   "metadata": {},
   "source": [
    "### Randomize data and partitioning"
   ]
  },
  {
   "cell_type": "code",
   "execution_count": 71,
   "metadata": {
    "collapsed": false
   },
   "outputs": [
    {
     "name": "stdout",
     "output_type": "stream",
     "text": [
      "(754L, 1682L) (189L, 1682L)\n",
      "[[0 0 0 ..., 0 0 0]\n",
      " [4 2 2 ..., 0 0 0]\n",
      " [4 0 0 ..., 0 0 0]\n",
      " [5 0 0 ..., 0 0 0]\n",
      " [0 0 0 ..., 0 0 0]]\n"
     ]
    }
   ],
   "source": [
    "from sklearn.cross_validation import train_test_split\n",
    "r_train, r_test, target_train, target_test = train_test_split(ratings, labels, test_size=0.2, random_state=33)\n",
    "\n",
    "print r_train.shape, r_test.shape\n",
    "print r_test[0:5]"
   ]
  },
  {
   "cell_type": "code",
   "execution_count": 72,
   "metadata": {
    "collapsed": false
   },
   "outputs": [
    {
     "name": "stdout",
     "output_type": "stream",
     "text": [
      "(754L,) (189L,)\n"
     ]
    }
   ],
   "source": [
    "print target_train.shape, target_test.shape"
   ]
  },
  {
   "cell_type": "markdown",
   "metadata": {},
   "source": [
    "### Normalize Data"
   ]
  },
  {
   "cell_type": "code",
   "execution_count": 73,
   "metadata": {
    "collapsed": true
   },
   "outputs": [],
   "source": [
    "from sklearn import preprocessing"
   ]
  },
  {
   "cell_type": "code",
   "execution_count": 74,
   "metadata": {
    "collapsed": false
   },
   "outputs": [
    {
     "name": "stderr",
     "output_type": "stream",
     "text": [
      "C:\\Users\\nm173399\\AppData\\Local\\Continuum\\Anaconda2\\lib\\site-packages\\sklearn\\utils\\validation.py:420: DataConversionWarning: Data with input dtype int64 was converted to float64 by MinMaxScaler.\n",
      "  warnings.warn(msg, DataConversionWarning)\n",
      "C:\\Users\\nm173399\\AppData\\Local\\Continuum\\Anaconda2\\lib\\site-packages\\sklearn\\utils\\validation.py:420: DataConversionWarning: Data with input dtype int64 was converted to float64 by MinMaxScaler.\n",
      "  warnings.warn(msg, DataConversionWarning)\n",
      "C:\\Users\\nm173399\\AppData\\Local\\Continuum\\Anaconda2\\lib\\site-packages\\sklearn\\utils\\validation.py:420: DataConversionWarning: Data with input dtype int64 was converted to float64 by MinMaxScaler.\n",
      "  warnings.warn(msg, DataConversionWarning)\n"
     ]
    }
   ],
   "source": [
    "min_max_scaler = preprocessing.MinMaxScaler().fit(r_train)\n",
    "train_norm = min_max_scaler.fit_transform(r_train)\n",
    "test_norm = min_max_scaler.fit_transform(r_test)"
   ]
  },
  {
   "cell_type": "code",
   "execution_count": 75,
   "metadata": {
    "collapsed": false
   },
   "outputs": [
    {
     "data": {
      "text/plain": [
       "array([[ 0.,  0.,  0., ...,  0.,  0.,  0.],\n",
       "       [ 0.,  0.,  0., ...,  0.,  0.,  0.],\n",
       "       [ 1.,  0.,  0., ...,  0.,  0.,  0.],\n",
       "       [ 0.,  0.,  0., ...,  0.,  0.,  0.],\n",
       "       [ 0.,  0.,  0., ...,  0.,  0.,  0.]])"
      ]
     },
     "execution_count": 75,
     "metadata": {},
     "output_type": "execute_result"
    }
   ],
   "source": [
    "train_norm[0:5]"
   ]
  },
  {
   "cell_type": "code",
   "execution_count": 76,
   "metadata": {
    "collapsed": false
   },
   "outputs": [
    {
     "data": {
      "text/plain": [
       "array([[ 0. ,  0. ,  0. , ...,  0. ,  0. ,  0. ],\n",
       "       [ 0.8,  0.4,  0.4, ...,  0. ,  0. ,  0. ],\n",
       "       [ 0.8,  0. ,  0. , ...,  0. ,  0. ,  0. ],\n",
       "       [ 1. ,  0. ,  0. , ...,  0. ,  0. ,  0. ],\n",
       "       [ 0. ,  0. ,  0. , ...,  0. ,  0. ,  0. ]])"
      ]
     },
     "execution_count": 76,
     "metadata": {},
     "output_type": "execute_result"
    }
   ],
   "source": [
    "test_norm[0:5]"
   ]
  },
  {
   "cell_type": "markdown",
   "metadata": {},
   "source": [
    "### KNN Classifier"
   ]
  },
  {
   "cell_type": "code",
   "execution_count": 77,
   "metadata": {
    "collapsed": true
   },
   "outputs": [],
   "source": [
    "def KNN_Classifier(instance, dat, label, k, measure):\n",
    "    if measure == \"euclidean\":\n",
    "        dists = np.sqrt(((dat-instance)**2).sum(axis=1))\n",
    "    elif measure == \"cosine\":\n",
    "        dat_norm = np.array([np.linalg.norm(dat[j]) for j in range(len(dat))])\n",
    "        instance_norm = np.linalg.norm(instance)\n",
    "        sims = np.dot(dat, instance)/(dat_norm*instance_norm)\n",
    "        dists = 1 - sims\n",
    "    idx = np.argsort(dists)\n",
    "    neighbor_index = idx[:k]\n",
    "    neighbor_record = dat[[neighbor_index]]\n",
    "    labels = label[[neighbor_index]]\n",
    "    final_class = np.bincount(labels)\n",
    "    return np.argmax(final_class), idx[:k]"
   ]
  },
  {
   "cell_type": "code",
   "execution_count": 80,
   "metadata": {
    "collapsed": true
   },
   "outputs": [],
   "source": [
    "def Comp_Accuracy(testdata, testlabel, traindata, trainlabel, k, measure):\n",
    "    correct = 0\n",
    "    for i in range(testdata.shape[0]):\n",
    "        pred_class = KNN_Classifier(testdata[i], traindata, trainlabel, k, measure)\n",
    "        if pred_class[0] == testlabel[i]:\n",
    "            correct += 1\n",
    "    accuracy_rate = float(correct)/float(testdata.shape[0])\n",
    "    return accuracy_rate"
   ]
  },
  {
   "cell_type": "code",
   "execution_count": 81,
   "metadata": {
    "collapsed": false
   },
   "outputs": [
    {
     "data": {
      "text/plain": [
       "0.5291005291005291"
      ]
     },
     "execution_count": 81,
     "metadata": {},
     "output_type": "execute_result"
    }
   ],
   "source": [
    "Comp_Accuracy(test_norm, target_test, train_norm, target_train, 5, \"euclidean\")"
   ]
  },
  {
   "cell_type": "code",
   "execution_count": 85,
   "metadata": {
    "collapsed": false
   },
   "outputs": [
    {
     "name": "stdout",
     "output_type": "stream",
     "text": [
      "[0.5873015873015873, 0.6507936507936508, 0.5661375661375662, 0.5767195767195767, 0.5291005291005291, 0.5396825396825397, 0.5291005291005291, 0.5396825396825397, 0.5185185185185185, 0.5185185185185185, 0.5079365079365079, 0.5132275132275133, 0.49206349206349204, 0.5132275132275133, 0.48148148148148145, 0.48677248677248675, 0.4656084656084656, 0.4708994708994709, 0.455026455026455, 0.455026455026455]\n"
     ]
    }
   ],
   "source": [
    "euc_accuracy = []\n",
    "for i in range(1, 21):\n",
    "    result = Comp_Accuracy(test_norm, target_test, train_norm, target_train, i, \"euclidean\")\n",
    "    euc_accuracy.append(result)\n",
    "print euc_accuracy"
   ]
  },
  {
   "cell_type": "code",
   "execution_count": 88,
   "metadata": {
    "collapsed": true
   },
   "outputs": [],
   "source": [
    "import matplotlib.pyplot as plt\n",
    "import matplotlib.patches as mpatches\n",
    "%matplotlib inline"
   ]
  },
  {
   "cell_type": "code",
   "execution_count": 90,
   "metadata": {
    "collapsed": false
   },
   "outputs": [
    {
     "data": {
      "text/plain": [
       "<matplotlib.legend.Legend at 0xd3ae5f8>"
      ]
     },
     "execution_count": 90,
     "metadata": {},
     "output_type": "execute_result"
    },
    {
     "data": {
      "image/png": "[encoded data removed]",
      "text/plain": [
       "<matplotlib.figure.Figure at 0xd3d05f8>"
      ]
     },
     "metadata": {},
     "output_type": "display_data"
    }
   ],
   "source": [
    "k = np.array(range(1, 21))\n",
    "euc = np.array(euc_accuracy)\n",
    "fig = plt.figure(figsize=(10,4))\n",
    "ax1 = fig.add_subplot(121)\n",
    "ax1.set_title(\"Comparison of KNN Classifier Performance Using Between different K\")\n",
    "ax1.set_xlabel('Number of Neighbors (k)')\n",
    "ax1.set_ylabel('Accuracy Rate')\n",
    "plt.plot(k, euc, 'r--', label='Euclidean Distance')\n",
    "plt.legend(bbox_to_anchor=(1.05, 1), loc=2, borderaxespad=0.)"
   ]
  }
 ],
 "metadata": {
  "kernelspec": {
   "display_name": "Python 2",
   "language": "python",
   "name": "python2"
  },
  "language_info": {
   "codemirror_mode": {
    "name": "ipython",
    "version": 2
   },
   "file_extension": ".py",
   "mimetype": "text/x-python",
   "name": "python",
   "nbconvert_exporter": "python",
   "pygments_lexer": "ipython2",
   "version": "2.7.11"
  }
 },
 "nbformat": 4,
 "nbformat_minor": 0
}
