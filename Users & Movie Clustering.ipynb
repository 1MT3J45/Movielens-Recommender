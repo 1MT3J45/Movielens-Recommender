{
 "cells": [
  {
   "cell_type": "code",
   "execution_count": 3,
   "metadata": {
    "collapsed": false
   },
   "outputs": [
    {
     "name": "stdout",
     "output_type": "stream",
     "text": [
      "/Users/TaihuaLi/Desktop/Projects/Netflix Prize\n"
     ]
    }
   ],
   "source": [
    "cd \"/Users/TaihuaLi/Desktop/Projects/Netflix Prize/\""
   ]
  },
  {
   "cell_type": "code",
   "execution_count": 4,
   "metadata": {
    "collapsed": true
   },
   "outputs": [],
   "source": [
    "import numpy as np\n",
    "import pandas as pd"
   ]
  },
  {
   "cell_type": "code",
   "execution_count": 5,
   "metadata": {
    "collapsed": true
   },
   "outputs": [],
   "source": [
    "ratings = pd.read_csv(\"Rating Zeros.csv\", index_col=0) # row: users  col: movies\n",
    "items = pd.read_csv(\"items.csv\", index_col=0) # movies information\n",
    "genre = pd.read_csv(\"genre.csv\") # movie genre information"
   ]
  },
  {
   "cell_type": "code",
   "execution_count": 6,
   "metadata": {
    "collapsed": false
   },
   "outputs": [
    {
     "data": {
      "text/html": [
       "<div>\n",
       "<table border=\"1\" class=\"dataframe\">\n",
       "  <thead>\n",
       "    <tr style=\"text-align: right;\">\n",
       "      <th></th>\n",
       "      <th>1</th>\n",
       "      <th>2</th>\n",
       "      <th>3</th>\n",
       "      <th>4</th>\n",
       "      <th>5</th>\n",
       "      <th>6</th>\n",
       "      <th>7</th>\n",
       "      <th>8</th>\n",
       "      <th>9</th>\n",
       "      <th>10</th>\n",
       "      <th>...</th>\n",
       "      <th>1673</th>\n",
       "      <th>1674</th>\n",
       "      <th>1675</th>\n",
       "      <th>1676</th>\n",
       "      <th>1677</th>\n",
       "      <th>1678</th>\n",
       "      <th>1679</th>\n",
       "      <th>1680</th>\n",
       "      <th>1681</th>\n",
       "      <th>1682</th>\n",
       "    </tr>\n",
       "  </thead>\n",
       "  <tbody>\n",
       "    <tr>\n",
       "      <th>1</th>\n",
       "      <td>5</td>\n",
       "      <td>3</td>\n",
       "      <td>4</td>\n",
       "      <td>3</td>\n",
       "      <td>3</td>\n",
       "      <td>5</td>\n",
       "      <td>4</td>\n",
       "      <td>1</td>\n",
       "      <td>5</td>\n",
       "      <td>3</td>\n",
       "      <td>...</td>\n",
       "      <td>0</td>\n",
       "      <td>0</td>\n",
       "      <td>0</td>\n",
       "      <td>0</td>\n",
       "      <td>0</td>\n",
       "      <td>0</td>\n",
       "      <td>0</td>\n",
       "      <td>0</td>\n",
       "      <td>0</td>\n",
       "      <td>0</td>\n",
       "    </tr>\n",
       "    <tr>\n",
       "      <th>2</th>\n",
       "      <td>4</td>\n",
       "      <td>0</td>\n",
       "      <td>0</td>\n",
       "      <td>0</td>\n",
       "      <td>0</td>\n",
       "      <td>0</td>\n",
       "      <td>0</td>\n",
       "      <td>0</td>\n",
       "      <td>0</td>\n",
       "      <td>2</td>\n",
       "      <td>...</td>\n",
       "      <td>0</td>\n",
       "      <td>0</td>\n",
       "      <td>0</td>\n",
       "      <td>0</td>\n",
       "      <td>0</td>\n",
       "      <td>0</td>\n",
       "      <td>0</td>\n",
       "      <td>0</td>\n",
       "      <td>0</td>\n",
       "      <td>0</td>\n",
       "    </tr>\n",
       "    <tr>\n",
       "      <th>3</th>\n",
       "      <td>0</td>\n",
       "      <td>0</td>\n",
       "      <td>0</td>\n",
       "      <td>0</td>\n",
       "      <td>0</td>\n",
       "      <td>0</td>\n",
       "      <td>0</td>\n",
       "      <td>0</td>\n",
       "      <td>0</td>\n",
       "      <td>0</td>\n",
       "      <td>...</td>\n",
       "      <td>0</td>\n",
       "      <td>0</td>\n",
       "      <td>0</td>\n",
       "      <td>0</td>\n",
       "      <td>0</td>\n",
       "      <td>0</td>\n",
       "      <td>0</td>\n",
       "      <td>0</td>\n",
       "      <td>0</td>\n",
       "      <td>0</td>\n",
       "    </tr>\n",
       "  </tbody>\n",
       "</table>\n",
       "<p>3 rows × 1682 columns</p>\n",
       "</div>"
      ],
      "text/plain": [
       "   1  2  3  4  5  6  7  8  9  10  ...   1673  1674  1675  1676  1677  1678  \\\n",
       "1  5  3  4  3  3  5  4  1  5   3  ...      0     0     0     0     0     0   \n",
       "2  4  0  0  0  0  0  0  0  0   2  ...      0     0     0     0     0     0   \n",
       "3  0  0  0  0  0  0  0  0  0   0  ...      0     0     0     0     0     0   \n",
       "\n",
       "   1679  1680  1681  1682  \n",
       "1     0     0     0     0  \n",
       "2     0     0     0     0  \n",
       "3     0     0     0     0  \n",
       "\n",
       "[3 rows x 1682 columns]"
      ]
     },
     "execution_count": 6,
     "metadata": {},
     "output_type": "execute_result"
    }
   ],
   "source": [
    "ratings.head(3)"
   ]
  },
  {
   "cell_type": "code",
   "execution_count": 7,
   "metadata": {
    "collapsed": false
   },
   "outputs": [
    {
     "data": {
      "text/html": [
       "<div>\n",
       "<table border=\"1\" class=\"dataframe\">\n",
       "  <thead>\n",
       "    <tr style=\"text-align: right;\">\n",
       "      <th></th>\n",
       "      <th>Name</th>\n",
       "      <th>Unknown</th>\n",
       "      <th>Action</th>\n",
       "      <th>Adventure</th>\n",
       "      <th>Animation</th>\n",
       "      <th>Children</th>\n",
       "      <th>Comedy</th>\n",
       "      <th>Crime</th>\n",
       "      <th>Documentary</th>\n",
       "      <th>Drama</th>\n",
       "      <th>Fantacy</th>\n",
       "      <th>Film.Noir</th>\n",
       "      <th>Horror</th>\n",
       "      <th>Musical</th>\n",
       "      <th>Mystery</th>\n",
       "      <th>Romance</th>\n",
       "      <th>Sci.Fi</th>\n",
       "      <th>Thriller</th>\n",
       "      <th>War</th>\n",
       "      <th>Western</th>\n",
       "    </tr>\n",
       "    <tr>\n",
       "      <th>﻿Movie.ID</th>\n",
       "      <th></th>\n",
       "      <th></th>\n",
       "      <th></th>\n",
       "      <th></th>\n",
       "      <th></th>\n",
       "      <th></th>\n",
       "      <th></th>\n",
       "      <th></th>\n",
       "      <th></th>\n",
       "      <th></th>\n",
       "      <th></th>\n",
       "      <th></th>\n",
       "      <th></th>\n",
       "      <th></th>\n",
       "      <th></th>\n",
       "      <th></th>\n",
       "      <th></th>\n",
       "      <th></th>\n",
       "      <th></th>\n",
       "      <th></th>\n",
       "    </tr>\n",
       "  </thead>\n",
       "  <tbody>\n",
       "    <tr>\n",
       "      <th>1</th>\n",
       "      <td>Toy Story (1995)</td>\n",
       "      <td>0</td>\n",
       "      <td>0</td>\n",
       "      <td>0</td>\n",
       "      <td>1</td>\n",
       "      <td>1</td>\n",
       "      <td>1</td>\n",
       "      <td>0</td>\n",
       "      <td>0</td>\n",
       "      <td>0</td>\n",
       "      <td>0</td>\n",
       "      <td>0</td>\n",
       "      <td>0</td>\n",
       "      <td>0</td>\n",
       "      <td>0</td>\n",
       "      <td>0</td>\n",
       "      <td>0</td>\n",
       "      <td>0</td>\n",
       "      <td>0</td>\n",
       "      <td>0</td>\n",
       "    </tr>\n",
       "    <tr>\n",
       "      <th>2</th>\n",
       "      <td>GoldenEye (1995)</td>\n",
       "      <td>0</td>\n",
       "      <td>1</td>\n",
       "      <td>1</td>\n",
       "      <td>0</td>\n",
       "      <td>0</td>\n",
       "      <td>0</td>\n",
       "      <td>0</td>\n",
       "      <td>0</td>\n",
       "      <td>0</td>\n",
       "      <td>0</td>\n",
       "      <td>0</td>\n",
       "      <td>0</td>\n",
       "      <td>0</td>\n",
       "      <td>0</td>\n",
       "      <td>0</td>\n",
       "      <td>0</td>\n",
       "      <td>1</td>\n",
       "      <td>0</td>\n",
       "      <td>0</td>\n",
       "    </tr>\n",
       "    <tr>\n",
       "      <th>3</th>\n",
       "      <td>Four Rooms (1995)</td>\n",
       "      <td>0</td>\n",
       "      <td>0</td>\n",
       "      <td>0</td>\n",
       "      <td>0</td>\n",
       "      <td>0</td>\n",
       "      <td>0</td>\n",
       "      <td>0</td>\n",
       "      <td>0</td>\n",
       "      <td>0</td>\n",
       "      <td>0</td>\n",
       "      <td>0</td>\n",
       "      <td>0</td>\n",
       "      <td>0</td>\n",
       "      <td>0</td>\n",
       "      <td>0</td>\n",
       "      <td>0</td>\n",
       "      <td>1</td>\n",
       "      <td>0</td>\n",
       "      <td>0</td>\n",
       "    </tr>\n",
       "  </tbody>\n",
       "</table>\n",
       "</div>"
      ],
      "text/plain": [
       "                        Name  Unknown  Action  Adventure  Animation  Children  \\\n",
       "﻿Movie.ID                                                                       \n",
       "1           Toy Story (1995)        0       0          0          1         1   \n",
       "2           GoldenEye (1995)        0       1          1          0         0   \n",
       "3          Four Rooms (1995)        0       0          0          0         0   \n",
       "\n",
       "           Comedy  Crime  Documentary  Drama  Fantacy  Film.Noir  Horror  \\\n",
       "﻿Movie.ID                                                                  \n",
       "1               1      0            0      0        0          0       0   \n",
       "2               0      0            0      0        0          0       0   \n",
       "3               0      0            0      0        0          0       0   \n",
       "\n",
       "           Musical  Mystery  Romance  Sci.Fi  Thriller  War  Western  \n",
       "﻿Movie.ID                                                             \n",
       "1                0        0        0       0         0    0        0  \n",
       "2                0        0        0       0         1    0        0  \n",
       "3                0        0        0       0         1    0        0  "
      ]
     },
     "execution_count": 7,
     "metadata": {},
     "output_type": "execute_result"
    }
   ],
   "source": [
    "items.head(3)"
   ]
  },
  {
   "cell_type": "code",
   "execution_count": 8,
   "metadata": {
    "collapsed": false
   },
   "outputs": [
    {
     "data": {
      "text/html": [
       "<div>\n",
       "<table border=\"1\" class=\"dataframe\">\n",
       "  <thead>\n",
       "    <tr style=\"text-align: right;\">\n",
       "      <th></th>\n",
       "      <th>﻿Genre</th>\n",
       "      <th>ID</th>\n",
       "    </tr>\n",
       "  </thead>\n",
       "  <tbody>\n",
       "    <tr>\n",
       "      <th>0</th>\n",
       "      <td>unknown</td>\n",
       "      <td>0</td>\n",
       "    </tr>\n",
       "    <tr>\n",
       "      <th>1</th>\n",
       "      <td>Action</td>\n",
       "      <td>1</td>\n",
       "    </tr>\n",
       "    <tr>\n",
       "      <th>2</th>\n",
       "      <td>Adventure</td>\n",
       "      <td>2</td>\n",
       "    </tr>\n",
       "  </tbody>\n",
       "</table>\n",
       "</div>"
      ],
      "text/plain": [
       "      ﻿Genre  ID\n",
       "0    unknown   0\n",
       "1     Action   1\n",
       "2  Adventure   2"
      ]
     },
     "execution_count": 8,
     "metadata": {},
     "output_type": "execute_result"
    }
   ],
   "source": [
    "genre.head(3)"
   ]
  },
  {
   "cell_type": "markdown",
   "metadata": {},
   "source": [
    "### K-means Clustering: Users"
   ]
  },
  {
   "cell_type": "code",
   "execution_count": 9,
   "metadata": {
    "collapsed": true
   },
   "outputs": [],
   "source": [
    "from sklearn.cluster import KMeans"
   ]
  },
  {
   "cell_type": "code",
   "execution_count": 10,
   "metadata": {
    "collapsed": true
   },
   "outputs": [],
   "source": [
    "kmeans = KMeans(n_clusters=5)"
   ]
  },
  {
   "cell_type": "code",
   "execution_count": 11,
   "metadata": {
    "collapsed": false
   },
   "outputs": [
    {
     "data": {
      "text/plain": [
       "KMeans(copy_x=True, init='k-means++', max_iter=300, n_clusters=5, n_init=10,\n",
       "    n_jobs=1, precompute_distances='auto', random_state=None, tol=0.0001,\n",
       "    verbose=0)"
      ]
     },
     "execution_count": 11,
     "metadata": {},
     "output_type": "execute_result"
    }
   ],
   "source": [
    "kmeans.fit(ratings,)"
   ]
  },
  {
   "cell_type": "code",
   "execution_count": 12,
   "metadata": {
    "collapsed": true
   },
   "outputs": [],
   "source": [
    "labels = kmeans.labels_\n",
    "centroids = kmeans.cluster_centers_"
   ]
  },
  {
   "cell_type": "code",
   "execution_count": 13,
   "metadata": {
    "collapsed": false
   },
   "outputs": [
    {
     "data": {
      "text/html": [
       "<div>\n",
       "<table border=\"1\" class=\"dataframe\">\n",
       "  <thead>\n",
       "    <tr style=\"text-align: right;\">\n",
       "      <th></th>\n",
       "      <th>0</th>\n",
       "      <th>1</th>\n",
       "      <th>2</th>\n",
       "      <th>3</th>\n",
       "      <th>4</th>\n",
       "      <th>5</th>\n",
       "      <th>6</th>\n",
       "      <th>7</th>\n",
       "      <th>8</th>\n",
       "      <th>9</th>\n",
       "      <th>...</th>\n",
       "      <th>1672</th>\n",
       "      <th>1673</th>\n",
       "      <th>1674</th>\n",
       "      <th>1675</th>\n",
       "      <th>1676</th>\n",
       "      <th>1677</th>\n",
       "      <th>1678</th>\n",
       "      <th>1679</th>\n",
       "      <th>1680</th>\n",
       "      <th>1681</th>\n",
       "    </tr>\n",
       "  </thead>\n",
       "  <tbody>\n",
       "    <tr>\n",
       "      <th>0</th>\n",
       "      <td>0.521164</td>\n",
       "      <td>0.023810</td>\n",
       "      <td>0.013228</td>\n",
       "      <td>0.060847</td>\n",
       "      <td>0.105820</td>\n",
       "      <td>0.068783</td>\n",
       "      <td>0.447090</td>\n",
       "      <td>0.208995</td>\n",
       "      <td>0.650794</td>\n",
       "      <td>0.166667</td>\n",
       "      <td>...</td>\n",
       "      <td>2.341877e-17</td>\n",
       "      <td>-1.214306e-17</td>\n",
       "      <td>2.341877e-17</td>\n",
       "      <td>-6.071532e-18</td>\n",
       "      <td>2.341877e-17</td>\n",
       "      <td>2.645503e-03</td>\n",
       "      <td>7.936508e-03</td>\n",
       "      <td>5.291005e-03</td>\n",
       "      <td>2.341877e-17</td>\n",
       "      <td>2.341877e-17</td>\n",
       "    </tr>\n",
       "    <tr>\n",
       "      <th>1</th>\n",
       "      <td>2.909605</td>\n",
       "      <td>0.033898</td>\n",
       "      <td>0.423729</td>\n",
       "      <td>0.141243</td>\n",
       "      <td>0.101695</td>\n",
       "      <td>0.101695</td>\n",
       "      <td>2.333333</td>\n",
       "      <td>0.175141</td>\n",
       "      <td>1.553672</td>\n",
       "      <td>0.361582</td>\n",
       "      <td>...</td>\n",
       "      <td>-1.301043e-18</td>\n",
       "      <td>-1.040834e-17</td>\n",
       "      <td>1.694915e-02</td>\n",
       "      <td>1.129944e-02</td>\n",
       "      <td>-1.301043e-18</td>\n",
       "      <td>-2.602085e-18</td>\n",
       "      <td>-1.301043e-18</td>\n",
       "      <td>-5.204170e-18</td>\n",
       "      <td>-1.301043e-18</td>\n",
       "      <td>-1.301043e-18</td>\n",
       "    </tr>\n",
       "    <tr>\n",
       "      <th>2</th>\n",
       "      <td>2.322034</td>\n",
       "      <td>0.711864</td>\n",
       "      <td>0.559322</td>\n",
       "      <td>2.661017</td>\n",
       "      <td>0.440678</td>\n",
       "      <td>0.559322</td>\n",
       "      <td>2.779661</td>\n",
       "      <td>2.898305</td>\n",
       "      <td>2.830508</td>\n",
       "      <td>1.644068</td>\n",
       "      <td>...</td>\n",
       "      <td>-2.602085e-18</td>\n",
       "      <td>6.779661e-02</td>\n",
       "      <td>-2.602085e-18</td>\n",
       "      <td>-3.035766e-18</td>\n",
       "      <td>-2.602085e-18</td>\n",
       "      <td>-1.517883e-18</td>\n",
       "      <td>-2.602085e-18</td>\n",
       "      <td>-3.035766e-18</td>\n",
       "      <td>-2.602085e-18</td>\n",
       "      <td>-2.602085e-18</td>\n",
       "    </tr>\n",
       "    <tr>\n",
       "      <th>3</th>\n",
       "      <td>2.360515</td>\n",
       "      <td>0.609442</td>\n",
       "      <td>0.231760</td>\n",
       "      <td>1.197425</td>\n",
       "      <td>0.257511</td>\n",
       "      <td>0.047210</td>\n",
       "      <td>1.884120</td>\n",
       "      <td>1.609442</td>\n",
       "      <td>1.175966</td>\n",
       "      <td>0.283262</td>\n",
       "      <td>...</td>\n",
       "      <td>1.287554e-02</td>\n",
       "      <td>-1.127570e-17</td>\n",
       "      <td>9.974660e-18</td>\n",
       "      <td>-5.637851e-18</td>\n",
       "      <td>1.287554e-02</td>\n",
       "      <td>-2.818926e-18</td>\n",
       "      <td>9.974660e-18</td>\n",
       "      <td>-5.637851e-18</td>\n",
       "      <td>9.974660e-18</td>\n",
       "      <td>9.974660e-18</td>\n",
       "    </tr>\n",
       "    <tr>\n",
       "      <th>4</th>\n",
       "      <td>3.687500</td>\n",
       "      <td>2.302083</td>\n",
       "      <td>1.104167</td>\n",
       "      <td>2.687500</td>\n",
       "      <td>1.458333</td>\n",
       "      <td>0.052083</td>\n",
       "      <td>3.166667</td>\n",
       "      <td>2.281250</td>\n",
       "      <td>2.114583</td>\n",
       "      <td>0.531250</td>\n",
       "      <td>...</td>\n",
       "      <td>-5.204170e-18</td>\n",
       "      <td>-8.673617e-18</td>\n",
       "      <td>-5.204170e-18</td>\n",
       "      <td>-4.336809e-18</td>\n",
       "      <td>-5.204170e-18</td>\n",
       "      <td>-2.168404e-18</td>\n",
       "      <td>-5.204170e-18</td>\n",
       "      <td>-4.336809e-18</td>\n",
       "      <td>3.125000e-02</td>\n",
       "      <td>3.125000e-02</td>\n",
       "    </tr>\n",
       "  </tbody>\n",
       "</table>\n",
       "<p>5 rows × 1682 columns</p>\n",
       "</div>"
      ],
      "text/plain": [
       "       0         1         2         3         4         5         6     \\\n",
       "0  0.521164  0.023810  0.013228  0.060847  0.105820  0.068783  0.447090   \n",
       "1  2.909605  0.033898  0.423729  0.141243  0.101695  0.101695  2.333333   \n",
       "2  2.322034  0.711864  0.559322  2.661017  0.440678  0.559322  2.779661   \n",
       "3  2.360515  0.609442  0.231760  1.197425  0.257511  0.047210  1.884120   \n",
       "4  3.687500  2.302083  1.104167  2.687500  1.458333  0.052083  3.166667   \n",
       "\n",
       "       7         8         9         ...               1672          1673  \\\n",
       "0  0.208995  0.650794  0.166667      ...       2.341877e-17 -1.214306e-17   \n",
       "1  0.175141  1.553672  0.361582      ...      -1.301043e-18 -1.040834e-17   \n",
       "2  2.898305  2.830508  1.644068      ...      -2.602085e-18  6.779661e-02   \n",
       "3  1.609442  1.175966  0.283262      ...       1.287554e-02 -1.127570e-17   \n",
       "4  2.281250  2.114583  0.531250      ...      -5.204170e-18 -8.673617e-18   \n",
       "\n",
       "           1674          1675          1676          1677          1678  \\\n",
       "0  2.341877e-17 -6.071532e-18  2.341877e-17  2.645503e-03  7.936508e-03   \n",
       "1  1.694915e-02  1.129944e-02 -1.301043e-18 -2.602085e-18 -1.301043e-18   \n",
       "2 -2.602085e-18 -3.035766e-18 -2.602085e-18 -1.517883e-18 -2.602085e-18   \n",
       "3  9.974660e-18 -5.637851e-18  1.287554e-02 -2.818926e-18  9.974660e-18   \n",
       "4 -5.204170e-18 -4.336809e-18 -5.204170e-18 -2.168404e-18 -5.204170e-18   \n",
       "\n",
       "           1679          1680          1681  \n",
       "0  5.291005e-03  2.341877e-17  2.341877e-17  \n",
       "1 -5.204170e-18 -1.301043e-18 -1.301043e-18  \n",
       "2 -3.035766e-18 -2.602085e-18 -2.602085e-18  \n",
       "3 -5.637851e-18  9.974660e-18  9.974660e-18  \n",
       "4 -4.336809e-18  3.125000e-02  3.125000e-02  \n",
       "\n",
       "[5 rows x 1682 columns]"
      ]
     },
     "execution_count": 13,
     "metadata": {},
     "output_type": "execute_result"
    }
   ],
   "source": [
    "pd.set_option('display.max_rows', ratings.describe().shape[1])\n",
    "pd.DataFrame(centroids)"
   ]
  },
  {
   "cell_type": "code",
   "execution_count": 14,
   "metadata": {
    "collapsed": false
   },
   "outputs": [],
   "source": [
    "movie_names = items.Name"
   ]
  },
  {
   "cell_type": "code",
   "execution_count": 15,
   "metadata": {
    "collapsed": true
   },
   "outputs": [],
   "source": [
    "genre_types = items.columns[1:]"
   ]
  },
  {
   "cell_type": "code",
   "execution_count": 16,
   "metadata": {
    "collapsed": true
   },
   "outputs": [],
   "source": [
    "items_array = np.array(items)\n",
    "movie_genre = np.array(items[genre_types])"
   ]
  },
  {
   "cell_type": "code",
   "execution_count": 17,
   "metadata": {
    "collapsed": false
   },
   "outputs": [
    {
     "data": {
      "text/plain": [
       "array([['Toy Story (1995)', 0, 0, ..., 0, 0, 0],\n",
       "       ['GoldenEye (1995)', 0, 1, ..., 1, 0, 0],\n",
       "       ['Four Rooms (1995)', 0, 0, ..., 1, 0, 0],\n",
       "       ..., \n",
       "       ['Sliding Doors (1998)', 0, 0, ..., 0, 0, 0],\n",
       "       ['You So Crazy (1994)', 0, 0, ..., 0, 0, 0],\n",
       "       ['Scream of Stone (Schrei aus Stein) (1991)', 0, 0, ..., 0, 0, 0]], dtype=object)"
      ]
     },
     "execution_count": 17,
     "metadata": {},
     "output_type": "execute_result"
    }
   ],
   "source": [
    "items_array"
   ]
  },
  {
   "cell_type": "markdown",
   "metadata": {},
   "source": [
    "##### Cluster Definition"
   ]
  },
  {
   "cell_type": "code",
   "execution_count": 18,
   "metadata": {
    "collapsed": false
   },
   "outputs": [],
   "source": [
    "def FiveStarMovies(centroids, labels, k, NTerms):\n",
    "    five_star_movies = []\n",
    "    cluster_movies = []\n",
    "    for i in range(k):\n",
    "        cluster_members = ratings[labels==i]\n",
    "        print 'cluster',i+1,'size: ', cluster_members.shape[0]\n",
    "        movie_total_rating = np.array(cluster_members.sum(0)).astype(float)\n",
    "        movie_rating_count = np.array((cluster_members!=0).sum(0)).astype(float)\n",
    "        movie_average_rating = np.divide(movie_total_rating, movie_rating_count)\n",
    "        movie_average_rating[np.isnan(movie_average_rating)] = 0\n",
    "        rated_movie_list = sorted(zip(movie_names, movie_average_rating), key=lambda x: int(x[1]), reverse=True)\n",
    "        to_append = []\n",
    "        cluster_append = []\n",
    "        for j in rated_movie_list:\n",
    "            if j[1] == 5:\n",
    "                to_append.append(j[0])   \n",
    "            if j[1] != 0:\n",
    "                cluster_append.append(j[0])\n",
    "        five_star_movies.append(to_append)\n",
    "        cluster_movies.append(cluster_append)\n",
    "    print \"\\n\"\n",
    "    # most rated movies in each cluster\n",
    "    k = 0\n",
    "    for m in five_star_movies:\n",
    "        prototype = list(np.zeros(len(genre_types)))\n",
    "        for n in items_array:    \n",
    "            for i in m:\n",
    "                if i == n[0]:\n",
    "                    prototype += n[1:]\n",
    "        print \"Representative Movies:\"\n",
    "        for i in range(5):\n",
    "            print m[i]\n",
    "        print \"\\n\"\n",
    "        prototype = map(int, prototype)\n",
    "        movie_genre_to_use = sorted(zip(genre_types, prototype), key=lambda x:int(x[1]), reverse=True)\n",
    "        print \"Cluster\", k+1, \"top genre: \"\n",
    "        for i in movie_genre_to_use[:NTerms]:\n",
    "            print i[0]\n",
    "        print \"\\n\"\n",
    "        k += 1\n",
    "    return five_star_movies, cluster_movies"
   ]
  },
  {
   "cell_type": "code",
   "execution_count": 19,
   "metadata": {
    "collapsed": false,
    "scrolled": false
   },
   "outputs": [
    {
     "name": "stdout",
     "output_type": "stream",
     "text": [
      "cluster 1 size:  378\n",
      "cluster 2 size:  177\n",
      "cluster 3 size:  59\n",
      "cluster 4 size:  233\n",
      "cluster 5 size:  96\n",
      "\n",
      "\n",
      "Representative Movies:\n",
      "Four Rooms (1995)\n",
      "Faster Pussycat! Kill! Kill! (1965)\n",
      "Aristocats, The (1970)\n",
      "Homeward Bound: The Incredible Journey (1993)\n",
      "Paradise Lost: The Child Murders at Robin Hood Hills (1996\n",
      "\n",
      "\n",
      "Cluster 1 top genre: \n",
      "Drama\n",
      "Comedy\n",
      "Children\n",
      "Adventure\n",
      "Romance\n",
      "\n",
      "\n",
      "Representative Movies:\n",
      "Dolores Claiborne (1994)\n",
      "Three Colors: Red (1994)\n",
      "So I Married an Axe Murderer (1993)\n",
      "Gone with the Wind (1939)\n",
      "Glengarry Glen Ross (1992)\n",
      "\n",
      "\n",
      "Cluster 2 top genre: \n",
      "Drama\n",
      "Comedy\n",
      "Romance\n",
      "Thriller\n",
      "Action\n",
      "\n",
      "\n",
      "Representative Movies:\n",
      "Stalingrad (1993)\n",
      "Baby-Sitters Club, The (1995)\n",
      "Timecop (1994)\n",
      "Great Day in Harlem, A (1994)\n",
      "Two or Three Things I Know About Her (1966)\n",
      "\n",
      "\n",
      "Cluster 3 top genre: \n",
      "Drama\n",
      "Comedy\n",
      "Animation\n",
      "Documentary\n",
      "Romance\n",
      "\n",
      "\n",
      "Representative Movies:\n",
      "Maya Lin: A Strong Clear Vision (1994)\n",
      "Turbo: A Power Rangers Movie (1997)\n",
      "Pillow Book, The (1995)\n",
      "Perfect Candidate, A (1996)\n",
      "Washington Square (1997)\n",
      "\n",
      "\n",
      "Cluster 4 top genre: \n",
      "Drama\n",
      "Comedy\n",
      "Romance\n",
      "War\n",
      "Action\n",
      "\n",
      "\n",
      "Representative Movies:\n",
      "Shanghai Triad (Yao a yao yao dao waipo qiao) (1995)\n",
      "Maya Lin: A Strong Clear Vision (1994)\n",
      "Deceiver (1997)\n",
      "Meet John Doe (1941)\n",
      "Telling Lies in America (1997)\n",
      "\n",
      "\n",
      "Cluster 5 top genre: \n",
      "Drama\n",
      "Crime\n",
      "Comedy\n",
      "Documentary\n",
      "Thriller\n",
      "\n",
      "\n"
     ]
    }
   ],
   "source": [
    "five_star_movies, cluster_movies = FiveStarMovies(centroids, labels, 5, 5)"
   ]
  },
  {
   "cell_type": "code",
   "execution_count": null,
   "metadata": {
    "collapsed": true
   },
   "outputs": [],
   "source": []
  }
 ],
 "metadata": {
  "kernelspec": {
   "display_name": "Python 2",
   "language": "python",
   "name": "python2"
  },
  "language_info": {
   "codemirror_mode": {
    "name": "ipython",
    "version": 2
   },
   "file_extension": ".py",
   "mimetype": "text/x-python",
   "name": "python",
   "nbconvert_exporter": "python",
   "pygments_lexer": "ipython2",
   "version": "2.7.11"
  }
 },
 "nbformat": 4,
 "nbformat_minor": 0
}
