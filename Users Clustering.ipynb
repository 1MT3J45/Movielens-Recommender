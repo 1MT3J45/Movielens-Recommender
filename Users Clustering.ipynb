{
 "cells": [
  {
   "cell_type": "code",
   "execution_count": 74,
   "metadata": {
    "collapsed": false
   },
   "outputs": [
    {
     "name": "stdout",
     "output_type": "stream",
     "text": [
      "/Users/TaihuaLi/Desktop/Projects/Netflix Prize\n"
     ]
    }
   ],
   "source": [
    "cd \"/Users/TaihuaLi/Desktop/Projects/Netflix Prize/\""
   ]
  },
  {
   "cell_type": "code",
   "execution_count": 75,
   "metadata": {
    "collapsed": true
   },
   "outputs": [],
   "source": [
    "import numpy as np\n",
    "import pandas as pd"
   ]
  },
  {
   "cell_type": "code",
   "execution_count": 89,
   "metadata": {
    "collapsed": true
   },
   "outputs": [],
   "source": [
    "ratings = pd.read_csv(\"Rating Zeros.csv\", index_col=0) # row: users  col: movies\n",
    "items = pd.read_csv(\"items.csv\", index_col=0) # movies information\n",
    "genre = pd.read_csv(\"genre.csv\") # movie genre information"
   ]
  },
  {
   "cell_type": "code",
   "execution_count": 90,
   "metadata": {
    "collapsed": false
   },
   "outputs": [
    {
     "data": {
      "text/html": [
       "<div>\n",
       "<table border=\"1\" class=\"dataframe\">\n",
       "  <thead>\n",
       "    <tr style=\"text-align: right;\">\n",
       "      <th></th>\n",
       "      <th>1</th>\n",
       "      <th>2</th>\n",
       "      <th>3</th>\n",
       "      <th>4</th>\n",
       "      <th>5</th>\n",
       "      <th>6</th>\n",
       "      <th>7</th>\n",
       "      <th>8</th>\n",
       "      <th>9</th>\n",
       "      <th>10</th>\n",
       "      <th>...</th>\n",
       "      <th>1673</th>\n",
       "      <th>1674</th>\n",
       "      <th>1675</th>\n",
       "      <th>1676</th>\n",
       "      <th>1677</th>\n",
       "      <th>1678</th>\n",
       "      <th>1679</th>\n",
       "      <th>1680</th>\n",
       "      <th>1681</th>\n",
       "      <th>1682</th>\n",
       "    </tr>\n",
       "  </thead>\n",
       "  <tbody>\n",
       "    <tr>\n",
       "      <th>1</th>\n",
       "      <td>5</td>\n",
       "      <td>3</td>\n",
       "      <td>4</td>\n",
       "      <td>3</td>\n",
       "      <td>3</td>\n",
       "      <td>5</td>\n",
       "      <td>4</td>\n",
       "      <td>1</td>\n",
       "      <td>5</td>\n",
       "      <td>3</td>\n",
       "      <td>...</td>\n",
       "      <td>0</td>\n",
       "      <td>0</td>\n",
       "      <td>0</td>\n",
       "      <td>0</td>\n",
       "      <td>0</td>\n",
       "      <td>0</td>\n",
       "      <td>0</td>\n",
       "      <td>0</td>\n",
       "      <td>0</td>\n",
       "      <td>0</td>\n",
       "    </tr>\n",
       "    <tr>\n",
       "      <th>2</th>\n",
       "      <td>4</td>\n",
       "      <td>0</td>\n",
       "      <td>0</td>\n",
       "      <td>0</td>\n",
       "      <td>0</td>\n",
       "      <td>0</td>\n",
       "      <td>0</td>\n",
       "      <td>0</td>\n",
       "      <td>0</td>\n",
       "      <td>2</td>\n",
       "      <td>...</td>\n",
       "      <td>0</td>\n",
       "      <td>0</td>\n",
       "      <td>0</td>\n",
       "      <td>0</td>\n",
       "      <td>0</td>\n",
       "      <td>0</td>\n",
       "      <td>0</td>\n",
       "      <td>0</td>\n",
       "      <td>0</td>\n",
       "      <td>0</td>\n",
       "    </tr>\n",
       "    <tr>\n",
       "      <th>3</th>\n",
       "      <td>0</td>\n",
       "      <td>0</td>\n",
       "      <td>0</td>\n",
       "      <td>0</td>\n",
       "      <td>0</td>\n",
       "      <td>0</td>\n",
       "      <td>0</td>\n",
       "      <td>0</td>\n",
       "      <td>0</td>\n",
       "      <td>0</td>\n",
       "      <td>...</td>\n",
       "      <td>0</td>\n",
       "      <td>0</td>\n",
       "      <td>0</td>\n",
       "      <td>0</td>\n",
       "      <td>0</td>\n",
       "      <td>0</td>\n",
       "      <td>0</td>\n",
       "      <td>0</td>\n",
       "      <td>0</td>\n",
       "      <td>0</td>\n",
       "    </tr>\n",
       "  </tbody>\n",
       "</table>\n",
       "<p>3 rows × 1682 columns</p>\n",
       "</div>"
      ],
      "text/plain": [
       "   1  2  3  4  5  6  7  8  9  10  ...   1673  1674  1675  1676  1677  1678  \\\n",
       "1  5  3  4  3  3  5  4  1  5   3  ...      0     0     0     0     0     0   \n",
       "2  4  0  0  0  0  0  0  0  0   2  ...      0     0     0     0     0     0   \n",
       "3  0  0  0  0  0  0  0  0  0   0  ...      0     0     0     0     0     0   \n",
       "\n",
       "   1679  1680  1681  1682  \n",
       "1     0     0     0     0  \n",
       "2     0     0     0     0  \n",
       "3     0     0     0     0  \n",
       "\n",
       "[3 rows x 1682 columns]"
      ]
     },
     "execution_count": 90,
     "metadata": {},
     "output_type": "execute_result"
    }
   ],
   "source": [
    "ratings.head(3)"
   ]
  },
  {
   "cell_type": "code",
   "execution_count": 91,
   "metadata": {
    "collapsed": false
   },
   "outputs": [
    {
     "data": {
      "text/html": [
       "<div>\n",
       "<table border=\"1\" class=\"dataframe\">\n",
       "  <thead>\n",
       "    <tr style=\"text-align: right;\">\n",
       "      <th></th>\n",
       "      <th>Name</th>\n",
       "      <th>Unknown</th>\n",
       "      <th>Action</th>\n",
       "      <th>Adventure</th>\n",
       "      <th>Animation</th>\n",
       "      <th>Children</th>\n",
       "      <th>Comedy</th>\n",
       "      <th>Crime</th>\n",
       "      <th>Documentary</th>\n",
       "      <th>Drama</th>\n",
       "      <th>Fantacy</th>\n",
       "      <th>Film.Noir</th>\n",
       "      <th>Horror</th>\n",
       "      <th>Musical</th>\n",
       "      <th>Mystery</th>\n",
       "      <th>Romance</th>\n",
       "      <th>Sci.Fi</th>\n",
       "      <th>Thriller</th>\n",
       "      <th>War</th>\n",
       "      <th>Western</th>\n",
       "    </tr>\n",
       "    <tr>\n",
       "      <th>﻿Movie.ID</th>\n",
       "      <th></th>\n",
       "      <th></th>\n",
       "      <th></th>\n",
       "      <th></th>\n",
       "      <th></th>\n",
       "      <th></th>\n",
       "      <th></th>\n",
       "      <th></th>\n",
       "      <th></th>\n",
       "      <th></th>\n",
       "      <th></th>\n",
       "      <th></th>\n",
       "      <th></th>\n",
       "      <th></th>\n",
       "      <th></th>\n",
       "      <th></th>\n",
       "      <th></th>\n",
       "      <th></th>\n",
       "      <th></th>\n",
       "      <th></th>\n",
       "    </tr>\n",
       "  </thead>\n",
       "  <tbody>\n",
       "    <tr>\n",
       "      <th>1</th>\n",
       "      <td>Toy Story (1995)</td>\n",
       "      <td>0</td>\n",
       "      <td>0</td>\n",
       "      <td>0</td>\n",
       "      <td>1</td>\n",
       "      <td>1</td>\n",
       "      <td>1</td>\n",
       "      <td>0</td>\n",
       "      <td>0</td>\n",
       "      <td>0</td>\n",
       "      <td>0</td>\n",
       "      <td>0</td>\n",
       "      <td>0</td>\n",
       "      <td>0</td>\n",
       "      <td>0</td>\n",
       "      <td>0</td>\n",
       "      <td>0</td>\n",
       "      <td>0</td>\n",
       "      <td>0</td>\n",
       "      <td>0</td>\n",
       "    </tr>\n",
       "    <tr>\n",
       "      <th>2</th>\n",
       "      <td>GoldenEye (1995)</td>\n",
       "      <td>0</td>\n",
       "      <td>1</td>\n",
       "      <td>1</td>\n",
       "      <td>0</td>\n",
       "      <td>0</td>\n",
       "      <td>0</td>\n",
       "      <td>0</td>\n",
       "      <td>0</td>\n",
       "      <td>0</td>\n",
       "      <td>0</td>\n",
       "      <td>0</td>\n",
       "      <td>0</td>\n",
       "      <td>0</td>\n",
       "      <td>0</td>\n",
       "      <td>0</td>\n",
       "      <td>0</td>\n",
       "      <td>1</td>\n",
       "      <td>0</td>\n",
       "      <td>0</td>\n",
       "    </tr>\n",
       "    <tr>\n",
       "      <th>3</th>\n",
       "      <td>Four Rooms (1995)</td>\n",
       "      <td>0</td>\n",
       "      <td>0</td>\n",
       "      <td>0</td>\n",
       "      <td>0</td>\n",
       "      <td>0</td>\n",
       "      <td>0</td>\n",
       "      <td>0</td>\n",
       "      <td>0</td>\n",
       "      <td>0</td>\n",
       "      <td>0</td>\n",
       "      <td>0</td>\n",
       "      <td>0</td>\n",
       "      <td>0</td>\n",
       "      <td>0</td>\n",
       "      <td>0</td>\n",
       "      <td>0</td>\n",
       "      <td>1</td>\n",
       "      <td>0</td>\n",
       "      <td>0</td>\n",
       "    </tr>\n",
       "  </tbody>\n",
       "</table>\n",
       "</div>"
      ],
      "text/plain": [
       "                        Name  Unknown  Action  Adventure  Animation  Children  \\\n",
       "﻿Movie.ID                                                                       \n",
       "1           Toy Story (1995)        0       0          0          1         1   \n",
       "2           GoldenEye (1995)        0       1          1          0         0   \n",
       "3          Four Rooms (1995)        0       0          0          0         0   \n",
       "\n",
       "           Comedy  Crime  Documentary  Drama  Fantacy  Film.Noir  Horror  \\\n",
       "﻿Movie.ID                                                                  \n",
       "1               1      0            0      0        0          0       0   \n",
       "2               0      0            0      0        0          0       0   \n",
       "3               0      0            0      0        0          0       0   \n",
       "\n",
       "           Musical  Mystery  Romance  Sci.Fi  Thriller  War  Western  \n",
       "﻿Movie.ID                                                             \n",
       "1                0        0        0       0         0    0        0  \n",
       "2                0        0        0       0         1    0        0  \n",
       "3                0        0        0       0         1    0        0  "
      ]
     },
     "execution_count": 91,
     "metadata": {},
     "output_type": "execute_result"
    }
   ],
   "source": [
    "items.head(3)"
   ]
  },
  {
   "cell_type": "code",
   "execution_count": 92,
   "metadata": {
    "collapsed": false
   },
   "outputs": [
    {
     "data": {
      "text/html": [
       "<div>\n",
       "<table border=\"1\" class=\"dataframe\">\n",
       "  <thead>\n",
       "    <tr style=\"text-align: right;\">\n",
       "      <th></th>\n",
       "      <th>﻿Genre</th>\n",
       "      <th>ID</th>\n",
       "    </tr>\n",
       "  </thead>\n",
       "  <tbody>\n",
       "    <tr>\n",
       "      <th>0</th>\n",
       "      <td>unknown</td>\n",
       "      <td>0</td>\n",
       "    </tr>\n",
       "    <tr>\n",
       "      <th>1</th>\n",
       "      <td>Action</td>\n",
       "      <td>1</td>\n",
       "    </tr>\n",
       "    <tr>\n",
       "      <th>2</th>\n",
       "      <td>Adventure</td>\n",
       "      <td>2</td>\n",
       "    </tr>\n",
       "  </tbody>\n",
       "</table>\n",
       "</div>"
      ],
      "text/plain": [
       "      ﻿Genre  ID\n",
       "0    unknown   0\n",
       "1     Action   1\n",
       "2  Adventure   2"
      ]
     },
     "execution_count": 92,
     "metadata": {},
     "output_type": "execute_result"
    }
   ],
   "source": [
    "genre.head(3)"
   ]
  },
  {
   "cell_type": "markdown",
   "metadata": {},
   "source": [
    "### K-means Clustering: Users"
   ]
  },
  {
   "cell_type": "code",
   "execution_count": 80,
   "metadata": {
    "collapsed": true
   },
   "outputs": [],
   "source": [
    "from sklearn.cluster import KMeans"
   ]
  },
  {
   "cell_type": "code",
   "execution_count": 208,
   "metadata": {
    "collapsed": true
   },
   "outputs": [],
   "source": [
    "kmeans = KMeans(n_clusters=5)"
   ]
  },
  {
   "cell_type": "code",
   "execution_count": 209,
   "metadata": {
    "collapsed": false
   },
   "outputs": [
    {
     "data": {
      "text/plain": [
       "KMeans(copy_x=True, init='k-means++', max_iter=300, n_clusters=5, n_init=10,\n",
       "    n_jobs=1, precompute_distances='auto', random_state=None, tol=0.0001,\n",
       "    verbose=0)"
      ]
     },
     "execution_count": 209,
     "metadata": {},
     "output_type": "execute_result"
    }
   ],
   "source": [
    "kmeans.fit(ratings,)"
   ]
  },
  {
   "cell_type": "code",
   "execution_count": 210,
   "metadata": {
    "collapsed": true
   },
   "outputs": [],
   "source": [
    "labels = kmeans.labels_\n",
    "centroids = kmeans.cluster_centers_"
   ]
  },
  {
   "cell_type": "code",
   "execution_count": 211,
   "metadata": {
    "collapsed": false
   },
   "outputs": [
    {
     "data": {
      "text/html": [
       "<div>\n",
       "<table border=\"1\" class=\"dataframe\">\n",
       "  <thead>\n",
       "    <tr style=\"text-align: right;\">\n",
       "      <th></th>\n",
       "      <th>0</th>\n",
       "      <th>1</th>\n",
       "      <th>2</th>\n",
       "      <th>3</th>\n",
       "      <th>4</th>\n",
       "      <th>5</th>\n",
       "      <th>6</th>\n",
       "      <th>7</th>\n",
       "      <th>8</th>\n",
       "      <th>9</th>\n",
       "      <th>...</th>\n",
       "      <th>1672</th>\n",
       "      <th>1673</th>\n",
       "      <th>1674</th>\n",
       "      <th>1675</th>\n",
       "      <th>1676</th>\n",
       "      <th>1677</th>\n",
       "      <th>1678</th>\n",
       "      <th>1679</th>\n",
       "      <th>1680</th>\n",
       "      <th>1681</th>\n",
       "    </tr>\n",
       "  </thead>\n",
       "  <tbody>\n",
       "    <tr>\n",
       "      <th>0</th>\n",
       "      <td>2.969325</td>\n",
       "      <td>0.018405</td>\n",
       "      <td>0.460123</td>\n",
       "      <td>0.134969</td>\n",
       "      <td>0.110429</td>\n",
       "      <td>0.110429</td>\n",
       "      <td>2.398773</td>\n",
       "      <td>0.147239</td>\n",
       "      <td>1.650307</td>\n",
       "      <td>0.392638</td>\n",
       "      <td>...</td>\n",
       "      <td>-5.637851e-18</td>\n",
       "      <td>-1.040834e-17</td>\n",
       "      <td>1.840491e-02</td>\n",
       "      <td>1.226994e-02</td>\n",
       "      <td>-5.637851e-18</td>\n",
       "      <td>-2.602085e-18</td>\n",
       "      <td>-5.637851e-18</td>\n",
       "      <td>-5.204170e-18</td>\n",
       "      <td>-5.637851e-18</td>\n",
       "      <td>-5.637851e-18</td>\n",
       "    </tr>\n",
       "    <tr>\n",
       "      <th>1</th>\n",
       "      <td>0.537859</td>\n",
       "      <td>0.023499</td>\n",
       "      <td>0.013055</td>\n",
       "      <td>0.052219</td>\n",
       "      <td>0.104439</td>\n",
       "      <td>0.067885</td>\n",
       "      <td>0.469974</td>\n",
       "      <td>0.206266</td>\n",
       "      <td>0.637076</td>\n",
       "      <td>0.164491</td>\n",
       "      <td>...</td>\n",
       "      <td>2.341877e-17</td>\n",
       "      <td>-1.214306e-17</td>\n",
       "      <td>2.341877e-17</td>\n",
       "      <td>-6.071532e-18</td>\n",
       "      <td>2.341877e-17</td>\n",
       "      <td>2.610966e-03</td>\n",
       "      <td>7.832898e-03</td>\n",
       "      <td>5.221932e-03</td>\n",
       "      <td>2.341877e-17</td>\n",
       "      <td>2.341877e-17</td>\n",
       "    </tr>\n",
       "    <tr>\n",
       "      <th>2</th>\n",
       "      <td>3.642857</td>\n",
       "      <td>2.214286</td>\n",
       "      <td>1.091837</td>\n",
       "      <td>2.693878</td>\n",
       "      <td>1.387755</td>\n",
       "      <td>0.051020</td>\n",
       "      <td>3.153061</td>\n",
       "      <td>2.336735</td>\n",
       "      <td>2.071429</td>\n",
       "      <td>0.612245</td>\n",
       "      <td>...</td>\n",
       "      <td>-5.637851e-18</td>\n",
       "      <td>-8.673617e-18</td>\n",
       "      <td>-5.637851e-18</td>\n",
       "      <td>-4.336809e-18</td>\n",
       "      <td>-5.637851e-18</td>\n",
       "      <td>-2.168404e-18</td>\n",
       "      <td>-5.637851e-18</td>\n",
       "      <td>-4.336809e-18</td>\n",
       "      <td>3.061224e-02</td>\n",
       "      <td>3.061224e-02</td>\n",
       "    </tr>\n",
       "    <tr>\n",
       "      <th>3</th>\n",
       "      <td>2.461538</td>\n",
       "      <td>0.723077</td>\n",
       "      <td>0.538462</td>\n",
       "      <td>2.538462</td>\n",
       "      <td>0.415385</td>\n",
       "      <td>0.507692</td>\n",
       "      <td>2.753846</td>\n",
       "      <td>2.815385</td>\n",
       "      <td>2.707692</td>\n",
       "      <td>1.569231</td>\n",
       "      <td>...</td>\n",
       "      <td>-3.035766e-18</td>\n",
       "      <td>6.153846e-02</td>\n",
       "      <td>-3.035766e-18</td>\n",
       "      <td>-3.469447e-18</td>\n",
       "      <td>-3.035766e-18</td>\n",
       "      <td>-1.734723e-18</td>\n",
       "      <td>-3.035766e-18</td>\n",
       "      <td>-3.469447e-18</td>\n",
       "      <td>-3.035766e-18</td>\n",
       "      <td>-3.035766e-18</td>\n",
       "    </tr>\n",
       "    <tr>\n",
       "      <th>4</th>\n",
       "      <td>2.333333</td>\n",
       "      <td>0.615385</td>\n",
       "      <td>0.217949</td>\n",
       "      <td>1.158120</td>\n",
       "      <td>0.269231</td>\n",
       "      <td>0.047009</td>\n",
       "      <td>1.837607</td>\n",
       "      <td>1.538462</td>\n",
       "      <td>1.166667</td>\n",
       "      <td>0.222222</td>\n",
       "      <td>...</td>\n",
       "      <td>1.282051e-02</td>\n",
       "      <td>-1.127570e-17</td>\n",
       "      <td>9.974660e-18</td>\n",
       "      <td>-5.637851e-18</td>\n",
       "      <td>1.282051e-02</td>\n",
       "      <td>-2.818926e-18</td>\n",
       "      <td>9.974660e-18</td>\n",
       "      <td>-5.637851e-18</td>\n",
       "      <td>9.974660e-18</td>\n",
       "      <td>9.974660e-18</td>\n",
       "    </tr>\n",
       "  </tbody>\n",
       "</table>\n",
       "<p>5 rows × 1682 columns</p>\n",
       "</div>"
      ],
      "text/plain": [
       "       0         1         2         3         4         5         6     \\\n",
       "0  2.969325  0.018405  0.460123  0.134969  0.110429  0.110429  2.398773   \n",
       "1  0.537859  0.023499  0.013055  0.052219  0.104439  0.067885  0.469974   \n",
       "2  3.642857  2.214286  1.091837  2.693878  1.387755  0.051020  3.153061   \n",
       "3  2.461538  0.723077  0.538462  2.538462  0.415385  0.507692  2.753846   \n",
       "4  2.333333  0.615385  0.217949  1.158120  0.269231  0.047009  1.837607   \n",
       "\n",
       "       7         8         9         ...               1672          1673  \\\n",
       "0  0.147239  1.650307  0.392638      ...      -5.637851e-18 -1.040834e-17   \n",
       "1  0.206266  0.637076  0.164491      ...       2.341877e-17 -1.214306e-17   \n",
       "2  2.336735  2.071429  0.612245      ...      -5.637851e-18 -8.673617e-18   \n",
       "3  2.815385  2.707692  1.569231      ...      -3.035766e-18  6.153846e-02   \n",
       "4  1.538462  1.166667  0.222222      ...       1.282051e-02 -1.127570e-17   \n",
       "\n",
       "           1674          1675          1676          1677          1678  \\\n",
       "0  1.840491e-02  1.226994e-02 -5.637851e-18 -2.602085e-18 -5.637851e-18   \n",
       "1  2.341877e-17 -6.071532e-18  2.341877e-17  2.610966e-03  7.832898e-03   \n",
       "2 -5.637851e-18 -4.336809e-18 -5.637851e-18 -2.168404e-18 -5.637851e-18   \n",
       "3 -3.035766e-18 -3.469447e-18 -3.035766e-18 -1.734723e-18 -3.035766e-18   \n",
       "4  9.974660e-18 -5.637851e-18  1.282051e-02 -2.818926e-18  9.974660e-18   \n",
       "\n",
       "           1679          1680          1681  \n",
       "0 -5.204170e-18 -5.637851e-18 -5.637851e-18  \n",
       "1  5.221932e-03  2.341877e-17  2.341877e-17  \n",
       "2 -4.336809e-18  3.061224e-02  3.061224e-02  \n",
       "3 -3.469447e-18 -3.035766e-18 -3.035766e-18  \n",
       "4 -5.637851e-18  9.974660e-18  9.974660e-18  \n",
       "\n",
       "[5 rows x 1682 columns]"
      ]
     },
     "execution_count": 211,
     "metadata": {},
     "output_type": "execute_result"
    }
   ],
   "source": [
    "pd.set_option('display.max_rows', ratings.describe().shape[1])\n",
    "pd.DataFrame(centroids)"
   ]
  },
  {
   "cell_type": "code",
   "execution_count": 212,
   "metadata": {
    "collapsed": false
   },
   "outputs": [],
   "source": [
    "movie_names = items.Name"
   ]
  },
  {
   "cell_type": "code",
   "execution_count": 213,
   "metadata": {
    "collapsed": true
   },
   "outputs": [],
   "source": [
    "genre_types = items.columns[1:]"
   ]
  },
  {
   "cell_type": "code",
   "execution_count": 215,
   "metadata": {
    "collapsed": true
   },
   "outputs": [],
   "source": [
    "items_array = np.array(items)\n",
    "movie_genre = np.array(items[genre_types])"
   ]
  },
  {
   "cell_type": "code",
   "execution_count": 216,
   "metadata": {
    "collapsed": false
   },
   "outputs": [
    {
     "data": {
      "text/plain": [
       "array([['Toy Story (1995)', 0, 0, ..., 0, 0, 0],\n",
       "       ['GoldenEye (1995)', 0, 1, ..., 1, 0, 0],\n",
       "       ['Four Rooms (1995)', 0, 0, ..., 1, 0, 0],\n",
       "       ..., \n",
       "       ['Sliding Doors (1998)', 0, 0, ..., 0, 0, 0],\n",
       "       ['You So Crazy (1994)', 0, 0, ..., 0, 0, 0],\n",
       "       ['Scream of Stone (Schrei aus Stein) (1991)', 0, 0, ..., 0, 0, 0]], dtype=object)"
      ]
     },
     "execution_count": 216,
     "metadata": {},
     "output_type": "execute_result"
    }
   ],
   "source": [
    "items_array"
   ]
  },
  {
   "cell_type": "markdown",
   "metadata": {},
   "source": [
    "##### Cluster Definition"
   ]
  },
  {
   "cell_type": "code",
   "execution_count": 217,
   "metadata": {
    "collapsed": false
   },
   "outputs": [],
   "source": [
    "def FiveStarMovies(centroids, labels, k, NTerms):\n",
    "    five_star_movies = []\n",
    "    cluster_movies = []\n",
    "    for i in range(k):\n",
    "        cluster_members = ratings[labels==i]\n",
    "        print 'cluster',i+1,'size: ', cluster_members.shape[0]\n",
    "        movie_total_rating = np.array(cluster_members.sum(0)).astype(float)\n",
    "        movie_rating_count = np.array((cluster_members!=0).sum(0)).astype(float)\n",
    "        movie_average_rating = np.divide(movie_total_rating, movie_rating_count)\n",
    "        movie_average_rating[np.isnan(movie_average_rating)] = 0\n",
    "        rated_movie_list = sorted(zip(movie_names, movie_average_rating), key=lambda x: int(x[1]), reverse=True)\n",
    "        to_append = []\n",
    "        cluster_append = []\n",
    "        for j in rated_movie_list:\n",
    "            if j[1] == 5:\n",
    "                to_append.append(j[0])   \n",
    "            if j[1] != 0:\n",
    "                cluster_append.append(j[0])\n",
    "        five_star_movies.append(to_append)\n",
    "        cluster_movies.append(cluster_append)\n",
    "    print \"\\n\"\n",
    "    # most rated movies in each cluster\n",
    "    k = 0\n",
    "    for m in five_star_movies:\n",
    "        prototype = list(np.zeros(len(genre_types)))\n",
    "        for n in items_array:    \n",
    "            for i in m:\n",
    "                if i == n[0]:\n",
    "                    prototype += n[1:]\n",
    "        print \"Representative Movies:\"\n",
    "        for i in range(5):\n",
    "            print m[i]\n",
    "        print \"\\n\"\n",
    "        prototype = map(int, prototype)\n",
    "        movie_genre_to_use = sorted(zip(genre_types, prototype), key=lambda x:int(x[1]), reverse=True)\n",
    "        print \"Cluster\", k+1, \"top genre: \"\n",
    "        for i in movie_genre_to_use[:NTerms]:\n",
    "            print i[0]\n",
    "        print \"\\n\"\n",
    "        k += 1\n",
    "    return five_star_movies, cluster_movies"
   ]
  },
  {
   "cell_type": "code",
   "execution_count": 218,
   "metadata": {
    "collapsed": false,
    "scrolled": false
   },
   "outputs": [
    {
     "name": "stdout",
     "output_type": "stream",
     "text": [
      "cluster 1 size:  163\n",
      "cluster 2 size:  383\n",
      "cluster 3 size:  98\n",
      "cluster 4 size:  65\n",
      "cluster 5 size:  234\n",
      "\n",
      "\n",
      "Representative Movies:\n",
      "Dolores Claiborne (1994)\n",
      "Three Colors: Red (1994)\n",
      "So I Married an Axe Murderer (1993)\n",
      "Dances with Wolves (1990)\n",
      "D3: The Mighty Ducks (1996)\n",
      "\n",
      "\n",
      "Cluster 1 top genre: \n",
      "Drama\n",
      "Comedy\n",
      "Romance\n",
      "Adventure\n",
      "Thriller\n",
      "\n",
      "\n",
      "Representative Movies:\n",
      "Four Rooms (1995)\n",
      "Faster Pussycat! Kill! Kill! (1965)\n",
      "Aristocats, The (1970)\n",
      "Homeward Bound: The Incredible Journey (1993)\n",
      "Paradise Lost: The Child Murders at Robin Hood Hills (1996\n",
      "\n",
      "\n",
      "Cluster 2 top genre: \n",
      "Drama\n",
      "Comedy\n",
      "Children\n",
      "Adventure\n",
      "Romance\n",
      "\n",
      "\n",
      "Representative Movies:\n",
      "Shanghai Triad (Yao a yao yao dao waipo qiao) (1995)\n",
      "Maya Lin: A Strong Clear Vision (1994)\n",
      "Deceiver (1997)\n",
      "Meet John Doe (1941)\n",
      "Telling Lies in America (1997)\n",
      "\n",
      "\n",
      "Cluster 3 top genre: \n",
      "Drama\n",
      "Crime\n",
      "Comedy\n",
      "Documentary\n",
      "Romance\n",
      "\n",
      "\n",
      "Representative Movies:\n",
      "Stalingrad (1993)\n",
      "Baby-Sitters Club, The (1995)\n",
      "Timecop (1994)\n",
      "Great Day in Harlem, A (1994)\n",
      "Two or Three Things I Know About Her (1966)\n",
      "\n",
      "\n",
      "Cluster 4 top genre: \n",
      "Drama\n",
      "Comedy\n",
      "Action\n",
      "Animation\n",
      "Documentary\n",
      "\n",
      "\n",
      "Representative Movies:\n",
      "Maya Lin: A Strong Clear Vision (1994)\n",
      "Turbo: A Power Rangers Movie (1997)\n",
      "Pillow Book, The (1995)\n",
      "Perfect Candidate, A (1996)\n",
      "Washington Square (1997)\n",
      "\n",
      "\n",
      "Cluster 5 top genre: \n",
      "Drama\n",
      "Comedy\n",
      "Action\n",
      "Documentary\n",
      "Sci.Fi\n",
      "\n",
      "\n"
     ]
    }
   ],
   "source": [
    "five_star_movies, cluster_movies = FiveStarMovies(centroids, labels, 5, 5)"
   ]
  }
 ],
 "metadata": {
  "kernelspec": {
   "display_name": "Python 2",
   "language": "python",
   "name": "python2"
  },
  "language_info": {
   "codemirror_mode": {
    "name": "ipython",
    "version": 2
   },
   "file_extension": ".py",
   "mimetype": "text/x-python",
   "name": "python",
   "nbconvert_exporter": "python",
   "pygments_lexer": "ipython2",
   "version": "2.7.11"
  }
 },
 "nbformat": 4,
 "nbformat_minor": 0
}
